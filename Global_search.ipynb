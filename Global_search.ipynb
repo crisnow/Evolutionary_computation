{
  "nbformat": 4,
  "nbformat_minor": 0,
  "metadata": {
    "colab": {
      "name": "Global_search.ipynb",
      "provenance": []
    },
    "kernelspec": {
      "name": "python3",
      "display_name": "Python 3"
    }
  },
  "cells": [
    {
      "cell_type": "code",
      "metadata": {
        "id": "O3rZ64bUDhSZ",
        "colab_type": "code",
        "colab": {}
      },
      "source": [
        "from random import randint\n",
        "import numpy as np\n",
        "import statsmodels.api as sm\n",
        "import pandas as pd\n",
        "import datetime"
      ],
      "execution_count": 0,
      "outputs": []
    },
    {
      "cell_type": "code",
      "metadata": {
        "id": "lyiNAF_2D6eM",
        "colab_type": "code",
        "colab": {}
      },
      "source": [
        "df = pd.read_csv(\"covid19_whole.csv\",header=0, index_col=0)\n",
        "af = df.iloc[:,1:]"
      ],
      "execution_count": 0,
      "outputs": []
    },
    {
      "cell_type": "code",
      "metadata": {
        "id": "gJN1xk-1Egnk",
        "colab_type": "code",
        "colab": {
          "base_uri": "https://localhost:8080/",
          "height": 224
        },
        "outputId": "57405044-b1a0-4961-f3ca-254da7d701ff"
      },
      "source": [
        "af.head()"
      ],
      "execution_count": 91,
      "outputs": [
        {
          "output_type": "execute_result",
          "data": {
            "text/html": [
              "<div>\n",
              "<style scoped>\n",
              "    .dataframe tbody tr th:only-of-type {\n",
              "        vertical-align: middle;\n",
              "    }\n",
              "\n",
              "    .dataframe tbody tr th {\n",
              "        vertical-align: top;\n",
              "    }\n",
              "\n",
              "    .dataframe thead th {\n",
              "        text-align: right;\n",
              "    }\n",
              "</style>\n",
              "<table border=\"1\" class=\"dataframe\">\n",
              "  <thead>\n",
              "    <tr style=\"text-align: right;\">\n",
              "      <th></th>\n",
              "      <th>Confirmed</th>\n",
              "      <th>Recovered</th>\n",
              "      <th>Deaths</th>\n",
              "      <th>AR-1</th>\n",
              "      <th>AR-2</th>\n",
              "      <th>AR-3</th>\n",
              "      <th>AR-4</th>\n",
              "      <th>AR-5</th>\n",
              "      <th>MA-1</th>\n",
              "      <th>MA-2</th>\n",
              "      <th>MA-3</th>\n",
              "      <th>MA-4</th>\n",
              "      <th>MA-5</th>\n",
              "    </tr>\n",
              "  </thead>\n",
              "  <tbody>\n",
              "    <tr>\n",
              "      <th>1</th>\n",
              "      <td>0.335388</td>\n",
              "      <td>0.134921</td>\n",
              "      <td>0.285714</td>\n",
              "      <td>0.000404</td>\n",
              "      <td>0.006555</td>\n",
              "      <td>-0.015658</td>\n",
              "      <td>-0.005842</td>\n",
              "      <td>-0.000897</td>\n",
              "      <td>0.003178</td>\n",
              "      <td>0.009401</td>\n",
              "      <td>-0.013089</td>\n",
              "      <td>-0.002800</td>\n",
              "      <td>0.001949</td>\n",
              "    </tr>\n",
              "    <tr>\n",
              "      <th>2</th>\n",
              "      <td>0.205611</td>\n",
              "      <td>0.552448</td>\n",
              "      <td>0.245614</td>\n",
              "      <td>0.004350</td>\n",
              "      <td>0.000404</td>\n",
              "      <td>0.006555</td>\n",
              "      <td>-0.015658</td>\n",
              "      <td>-0.005842</td>\n",
              "      <td>0.007124</td>\n",
              "      <td>0.003250</td>\n",
              "      <td>0.009125</td>\n",
              "      <td>-0.012616</td>\n",
              "      <td>-0.002996</td>\n",
              "    </tr>\n",
              "    <tr>\n",
              "      <th>3</th>\n",
              "      <td>1.002720</td>\n",
              "      <td>1.806306</td>\n",
              "      <td>0.215962</td>\n",
              "      <td>-0.020909</td>\n",
              "      <td>0.004350</td>\n",
              "      <td>0.000404</td>\n",
              "      <td>0.006555</td>\n",
              "      <td>-0.015658</td>\n",
              "      <td>-0.018135</td>\n",
              "      <td>0.007196</td>\n",
              "      <td>0.002974</td>\n",
              "      <td>0.009597</td>\n",
              "      <td>-0.012812</td>\n",
              "    </tr>\n",
              "    <tr>\n",
              "      <th>4</th>\n",
              "      <td>0.201750</td>\n",
              "      <td>0.367576</td>\n",
              "      <td>0.397683</td>\n",
              "      <td>0.005089</td>\n",
              "      <td>-0.020909</td>\n",
              "      <td>0.004350</td>\n",
              "      <td>0.000404</td>\n",
              "      <td>0.006555</td>\n",
              "      <td>0.007862</td>\n",
              "      <td>-0.018062</td>\n",
              "      <td>0.006920</td>\n",
              "      <td>0.003446</td>\n",
              "      <td>0.009401</td>\n",
              "    </tr>\n",
              "    <tr>\n",
              "      <th>5</th>\n",
              "      <td>0.156663</td>\n",
              "      <td>0.319249</td>\n",
              "      <td>0.176796</td>\n",
              "      <td>0.014360</td>\n",
              "      <td>0.005089</td>\n",
              "      <td>-0.020909</td>\n",
              "      <td>0.004350</td>\n",
              "      <td>0.000404</td>\n",
              "      <td>0.017134</td>\n",
              "      <td>0.007935</td>\n",
              "      <td>-0.018339</td>\n",
              "      <td>0.007392</td>\n",
              "      <td>0.003250</td>\n",
              "    </tr>\n",
              "  </tbody>\n",
              "</table>\n",
              "</div>"
            ],
            "text/plain": [
              "   Confirmed  Recovered    Deaths  ...      MA-3      MA-4      MA-5\n",
              "1   0.335388   0.134921  0.285714  ... -0.013089 -0.002800  0.001949\n",
              "2   0.205611   0.552448  0.245614  ...  0.009125 -0.012616 -0.002996\n",
              "3   1.002720   1.806306  0.215962  ...  0.002974  0.009597 -0.012812\n",
              "4   0.201750   0.367576  0.397683  ...  0.006920  0.003446  0.009401\n",
              "5   0.156663   0.319249  0.176796  ... -0.018339  0.007392  0.003250\n",
              "\n",
              "[5 rows x 13 columns]"
            ]
          },
          "metadata": {
            "tags": []
          },
          "execution_count": 91
        }
      ]
    },
    {
      "cell_type": "code",
      "metadata": {
        "id": "_mXV2VxcG1KC",
        "colab_type": "code",
        "colab": {}
      },
      "source": [
        "from itertools import combinations\n",
        "\n",
        "index_combination = []\n",
        "\n",
        "for j in range(1, 13):\n",
        "    comb = combinations(range(13), j)\n",
        "    for i in list(comb):\n",
        "      index_combination.append(i) \n",
        "\n",
        "\n",
        "# Print the obtained combinations"
      ],
      "execution_count": 0,
      "outputs": []
    },
    {
      "cell_type": "code",
      "metadata": {
        "id": "Kt3M7zKDJNWq",
        "colab_type": "code",
        "colab": {
          "base_uri": "https://localhost:8080/",
          "height": 34
        },
        "outputId": "ee70b7b4-68fa-4e7c-b562-68d75ae8996a"
      },
      "source": [
        "len(index_combination)"
      ],
      "execution_count": 93,
      "outputs": [
        {
          "output_type": "execute_result",
          "data": {
            "text/plain": [
              "8190"
            ]
          },
          "metadata": {
            "tags": []
          },
          "execution_count": 93
        }
      ]
    },
    {
      "cell_type": "code",
      "metadata": {
        "id": "BBcsIjEaJ4Kk",
        "colab_type": "code",
        "colab": {}
      },
      "source": [
        "fitness = []"
      ],
      "execution_count": 0,
      "outputs": []
    },
    {
      "cell_type": "code",
      "metadata": {
        "id": "I4IwKMb6KHYZ",
        "colab_type": "code",
        "colab": {}
      },
      "source": [
        "index = index_combination[0]\n",
        "#print(np.array(index))\n",
        "a = af.iloc[0:(34+0),np.array(index)]\n",
        "print(a)"
      ],
      "execution_count": 0,
      "outputs": []
    },
    {
      "cell_type": "code",
      "metadata": {
        "id": "GCI2Hi7QEIXk",
        "colab_type": "code",
        "colab": {}
      },
      "source": [
        "begin_time = datetime.datetime.now()\n",
        "\n",
        "for j in range(len(index_combination)):\n",
        "    error = 0\n",
        "    index = index_combination[j]\n",
        "    print(index)\n",
        "    for i in range(20):\n",
        "        a = af.iloc[i:(34+i),np.array(index)] \n",
        "        b = df['Return'][i:(34+i)]\n",
        "\n",
        "        model = sm.OLS(b, a).fit()\n",
        "        AIC = model.aic \n",
        "        error = error + AIC \n",
        "    fitness.append(error)\n",
        "    \n",
        "print(datetime.datetime.now() - begin_time)"
      ],
      "execution_count": 0,
      "outputs": []
    },
    {
      "cell_type": "code",
      "metadata": {
        "id": "aELnWAVDOEfK",
        "colab_type": "code",
        "colab": {
          "base_uri": "https://localhost:8080/",
          "height": 34
        },
        "outputId": "51cdd6d3-1b59-43a6-afa3-6731b35b3e25"
      },
      "source": [
        "#ind = fitness.index(min(fitness))\n",
        "fitness[20] #-2217.8426593857657\n",
        "fitness[ind]  # -2248.4261077751635"
      ],
      "execution_count": 83,
      "outputs": [
        {
          "output_type": "execute_result",
          "data": {
            "text/plain": [
              "-2248.4261077751635"
            ]
          },
          "metadata": {
            "tags": []
          },
          "execution_count": 83
        }
      ]
    },
    {
      "cell_type": "code",
      "metadata": {
        "id": "wsnx0oKiOeUX",
        "colab_type": "code",
        "colab": {
          "base_uri": "https://localhost:8080/",
          "height": 34
        },
        "outputId": "6ec3b9c2-0209-40c8-c587-8143139d2297"
      },
      "source": [
        "fitness.sort()\n",
        "\n",
        "fitness.index(-2217.8426593857657)"
      ],
      "execution_count": 88,
      "outputs": [
        {
          "output_type": "execute_result",
          "data": {
            "text/plain": [
              "68"
            ]
          },
          "metadata": {
            "tags": []
          },
          "execution_count": 88
        }
      ]
    },
    {
      "cell_type": "code",
      "metadata": {
        "id": "ez2zQE-rAVQB",
        "colab_type": "code",
        "colab": {
          "base_uri": "https://localhost:8080/",
          "height": 1000
        },
        "outputId": "25fa986e-a3e5-4284-d745-e4add0c9b703"
      },
      "source": [
        "# calucluate the fitness\n",
        "def calculate_fitness(pop_array):\n",
        "    size = 50\n",
        "    error = 0\n",
        "    fitness = []\n",
        "    for i in range(size): # 50 is the size of population\n",
        "        index = []\n",
        "        error = 0\n",
        "        for j in range(13): # 14 is the size of gene length\n",
        "            if(pop_array[i][j] == 1):\n",
        "              index.append(j)\n",
        "\n",
        "        print((index))\n",
        "        for i in range(20):\n",
        "            a = af.iloc[i:(34+i),index] \n",
        "            b = df['Return'][i:(34+i)]\n",
        "\n",
        "            model = sm.OLS(b, a).fit()\n",
        "            AIC = model.aic\n",
        "         # print(AIC)  \n",
        "            error = error + AIC \n",
        "        fitness.append(error) \n",
        "    return np.array(fitness)\n",
        "\n",
        "fitness_arr = calculate_fitness(pop_array)\n",
        "fitness_arr  "
      ],
      "execution_count": 12,
      "outputs": [
        {
          "output_type": "stream",
          "text": [
            "[0, 6, 8, 9, 10, 11, 12]\n",
            "[0, 0, 1, 3, 5, 7, 9, 10, 12]\n",
            "[0, 1, 3, 5, 8]\n",
            "[0, 1, 3, 5, 7, 8, 9, 12]\n",
            "[0, 0, 1, 4, 5, 6, 8, 9, 11, 12]\n",
            "[0, 0, 1, 2, 4, 6, 7, 10, 11]\n",
            "[0, 0, 4, 9, 10, 11]\n",
            "[0, 1, 2, 3, 5, 6, 8, 9, 10, 11]\n",
            "[0, 2, 5, 7, 8, 10, 11]\n",
            "[0, 1, 2, 3, 4, 5, 6, 8, 9, 10, 12]\n",
            "[0, 3, 4, 5, 6, 8, 10, 11, 12]\n",
            "[0, 0, 3, 4, 6, 10, 11, 12]\n",
            "[0, 0, 2, 3, 4, 5, 6, 7, 9, 12]\n",
            "[0, 0, 1, 2, 7, 8, 10]\n",
            "[0, 2, 4, 5, 6, 10, 11]\n",
            "[0, 0, 1, 2, 6, 7, 9, 10, 11, 12]\n",
            "[0, 0, 1, 3, 7, 8, 12]\n",
            "[0, 0, 2, 3, 4, 7, 8, 10]\n",
            "[0, 1, 2, 4, 5, 10, 11, 12]\n",
            "[0, 0, 3, 7, 9, 10, 11, 12]\n",
            "[0, 0, 1, 3, 8, 9]\n",
            "[0, 0, 1, 4, 5, 8, 10, 11]\n",
            "[0, 1, 2, 7]\n",
            "[0, 0, 3, 6, 8, 9, 10, 11]\n",
            "[0, 0, 1, 2, 5, 6, 8]\n",
            "[0, 0, 2, 4, 8, 9, 10, 11, 12]\n",
            "[0, 1, 2, 5, 7, 9, 11, 12]\n",
            "[0, 6, 9, 10]\n",
            "[0, 7, 8, 10, 12]\n",
            "[0, 7, 8, 10, 12]\n",
            "[0, 1, 2, 3, 4, 5, 6, 8, 10]\n",
            "[0, 1, 2, 5, 9]\n",
            "[0, 1, 4, 6, 7, 10, 12]\n",
            "[0, 1, 2, 3, 5, 6, 9, 11, 12]\n",
            "[0, 0, 2, 5, 8, 10, 12]\n",
            "[0, 2, 4, 5, 9, 10, 11, 12]\n",
            "[0, 0, 1, 3, 4, 6, 7, 8, 10, 12]\n",
            "[0, 0, 2, 5, 8, 9, 11, 12]\n",
            "[0, 2, 4, 9, 10, 11]\n",
            "[0, 3, 4, 5, 8, 9, 12]\n",
            "[0, 1, 2, 4, 6, 9, 10, 11, 12]\n",
            "[0, 0, 3, 6, 7, 11, 12]\n",
            "[0, 0, 6, 7, 8, 11]\n",
            "[0, 0, 2, 3, 4, 7, 8, 9, 11, 12]\n",
            "[0, 0, 1, 3, 7, 9]\n",
            "[0, 0, 2, 9, 10, 12]\n",
            "[0, 0, 1, 3, 9, 10, 11, 12]\n",
            "[0, 1, 2, 4, 6, 10, 11]\n",
            "[0, 0, 2, 4, 7, 8, 11]\n",
            "[0, 0, 2, 3, 5, 6, 8, 9, 10, 12]\n"
          ],
          "name": "stdout"
        },
        {
          "output_type": "execute_result",
          "data": {
            "text/plain": [
              "array([-2127.31569045, -2115.52732318, -2159.14604826, -2115.52732318,\n",
              "       -2097.89418594, -1988.69451248, -2092.89545199, -2102.87338774,\n",
              "       -2086.87720009, -2063.77438995, -2127.31569045, -2127.31569045,\n",
              "       -2089.0553717 , -2097.25715608, -2054.37141626, -1988.69451248,\n",
              "       -2152.28048802, -2111.52082852, -1988.69451248, -2127.31569045,\n",
              "       -2157.49708534, -2136.96354079, -2011.17399937, -2165.68434793,\n",
              "       -2104.32051902, -2089.0553717 , -1988.69451248, -2119.01049361,\n",
              "       -2154.20861684, -2154.20861684, -2102.87338774, -2057.39581545,\n",
              "       -2026.26372575, -2063.77438995, -2116.82065915, -2019.52910365,\n",
              "       -2097.89418594, -2109.67848605, -2054.37141626, -2149.66545315,\n",
              "       -1988.69451248, -2148.9331814 , -2148.9331814 , -2106.61324329,\n",
              "       -2133.6465024 , -2068.56695995, -2101.56119522, -2024.76220388,\n",
              "       -2117.34407612, -2089.0553717 ])"
            ]
          },
          "metadata": {
            "tags": []
          },
          "execution_count": 12
        }
      ]
    }
  ]
}