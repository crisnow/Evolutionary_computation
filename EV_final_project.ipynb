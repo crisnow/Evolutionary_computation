{
  "nbformat": 4,
  "nbformat_minor": 0,
  "metadata": {
    "colab": {
      "name": "EV_final_project.ipynb",
      "provenance": []
    },
    "kernelspec": {
      "name": "python3",
      "display_name": "Python 3"
    }
  },
  "cells": [
    {
      "cell_type": "code",
      "metadata": {
        "id": "6mhAhN0kph6h",
        "colab_type": "code",
        "colab": {
          "base_uri": "https://localhost:8080/",
          "height": 71
        },
        "outputId": "d31a364a-c5e3-40ad-a50f-6016e69b1f52"
      },
      "source": [
        "from random import randint\n",
        "import numpy as np\n",
        "import statsmodels.api as sm\n",
        "import pandas as pd"
      ],
      "execution_count": 2,
      "outputs": [
        {
          "output_type": "stream",
          "text": [
            "/usr/local/lib/python3.6/dist-packages/statsmodels/tools/_testing.py:19: FutureWarning: pandas.util.testing is deprecated. Use the functions in the public API at pandas.testing instead.\n",
            "  import pandas.util.testing as tm\n"
          ],
          "name": "stderr"
        }
      ]
    },
    {
      "cell_type": "code",
      "metadata": {
        "id": "S6eRLMVRnHXP",
        "colab_type": "code",
        "colab": {}
      },
      "source": [
        "df = pd.read_csv(\"covid19_whole.csv\",header=0, index_col=0)"
      ],
      "execution_count": 0,
      "outputs": []
    },
    {
      "cell_type": "code",
      "metadata": {
        "id": "DYrtXg41Wr8o",
        "colab_type": "code",
        "colab": {}
      },
      "source": [
        "af = df.iloc[:,1:]"
      ],
      "execution_count": 0,
      "outputs": []
    },
    {
      "cell_type": "code",
      "metadata": {
        "id": "mD5tsetWyB7v",
        "colab_type": "code",
        "outputId": "46f07021-c8d2-491a-af31-b42be685f68e",
        "colab": {
          "base_uri": "https://localhost:8080/",
          "height": 224
        }
      },
      "source": [
        "af.head()"
      ],
      "execution_count": 20,
      "outputs": [
        {
          "output_type": "execute_result",
          "data": {
            "text/html": [
              "<div>\n",
              "<style scoped>\n",
              "    .dataframe tbody tr th:only-of-type {\n",
              "        vertical-align: middle;\n",
              "    }\n",
              "\n",
              "    .dataframe tbody tr th {\n",
              "        vertical-align: top;\n",
              "    }\n",
              "\n",
              "    .dataframe thead th {\n",
              "        text-align: right;\n",
              "    }\n",
              "</style>\n",
              "<table border=\"1\" class=\"dataframe\">\n",
              "  <thead>\n",
              "    <tr style=\"text-align: right;\">\n",
              "      <th></th>\n",
              "      <th>Confirmed</th>\n",
              "      <th>Recovered</th>\n",
              "      <th>Deaths</th>\n",
              "      <th>AR-1</th>\n",
              "      <th>AR-2</th>\n",
              "      <th>AR-3</th>\n",
              "      <th>AR-4</th>\n",
              "      <th>AR-5</th>\n",
              "      <th>MA-1</th>\n",
              "      <th>MA-2</th>\n",
              "      <th>MA-3</th>\n",
              "      <th>MA-4</th>\n",
              "      <th>MA-5</th>\n",
              "    </tr>\n",
              "  </thead>\n",
              "  <tbody>\n",
              "    <tr>\n",
              "      <th>1</th>\n",
              "      <td>0.335388</td>\n",
              "      <td>0.134921</td>\n",
              "      <td>0.285714</td>\n",
              "      <td>0.000404</td>\n",
              "      <td>0.006555</td>\n",
              "      <td>-0.015658</td>\n",
              "      <td>-0.005842</td>\n",
              "      <td>-0.000897</td>\n",
              "      <td>0.003178</td>\n",
              "      <td>0.009401</td>\n",
              "      <td>-0.013089</td>\n",
              "      <td>-0.002800</td>\n",
              "      <td>0.001949</td>\n",
              "    </tr>\n",
              "    <tr>\n",
              "      <th>2</th>\n",
              "      <td>0.205611</td>\n",
              "      <td>0.552448</td>\n",
              "      <td>0.245614</td>\n",
              "      <td>0.004350</td>\n",
              "      <td>0.000404</td>\n",
              "      <td>0.006555</td>\n",
              "      <td>-0.015658</td>\n",
              "      <td>-0.005842</td>\n",
              "      <td>0.007124</td>\n",
              "      <td>0.003250</td>\n",
              "      <td>0.009125</td>\n",
              "      <td>-0.012616</td>\n",
              "      <td>-0.002996</td>\n",
              "    </tr>\n",
              "    <tr>\n",
              "      <th>3</th>\n",
              "      <td>1.002720</td>\n",
              "      <td>1.806306</td>\n",
              "      <td>0.215962</td>\n",
              "      <td>-0.020909</td>\n",
              "      <td>0.004350</td>\n",
              "      <td>0.000404</td>\n",
              "      <td>0.006555</td>\n",
              "      <td>-0.015658</td>\n",
              "      <td>-0.018135</td>\n",
              "      <td>0.007196</td>\n",
              "      <td>0.002974</td>\n",
              "      <td>0.009597</td>\n",
              "      <td>-0.012812</td>\n",
              "    </tr>\n",
              "    <tr>\n",
              "      <th>4</th>\n",
              "      <td>0.201750</td>\n",
              "      <td>0.367576</td>\n",
              "      <td>0.397683</td>\n",
              "      <td>0.005089</td>\n",
              "      <td>-0.020909</td>\n",
              "      <td>0.004350</td>\n",
              "      <td>0.000404</td>\n",
              "      <td>0.006555</td>\n",
              "      <td>0.007862</td>\n",
              "      <td>-0.018062</td>\n",
              "      <td>0.006920</td>\n",
              "      <td>0.003446</td>\n",
              "      <td>0.009401</td>\n",
              "    </tr>\n",
              "    <tr>\n",
              "      <th>5</th>\n",
              "      <td>0.156663</td>\n",
              "      <td>0.319249</td>\n",
              "      <td>0.176796</td>\n",
              "      <td>0.014360</td>\n",
              "      <td>0.005089</td>\n",
              "      <td>-0.020909</td>\n",
              "      <td>0.004350</td>\n",
              "      <td>0.000404</td>\n",
              "      <td>0.017134</td>\n",
              "      <td>0.007935</td>\n",
              "      <td>-0.018339</td>\n",
              "      <td>0.007392</td>\n",
              "      <td>0.003250</td>\n",
              "    </tr>\n",
              "  </tbody>\n",
              "</table>\n",
              "</div>"
            ],
            "text/plain": [
              "   Confirmed  Recovered    Deaths  ...      MA-3      MA-4      MA-5\n",
              "1   0.335388   0.134921  0.285714  ... -0.013089 -0.002800  0.001949\n",
              "2   0.205611   0.552448  0.245614  ...  0.009125 -0.012616 -0.002996\n",
              "3   1.002720   1.806306  0.215962  ...  0.002974  0.009597 -0.012812\n",
              "4   0.201750   0.367576  0.397683  ...  0.006920  0.003446  0.009401\n",
              "5   0.156663   0.319249  0.176796  ... -0.018339  0.007392  0.003250\n",
              "\n",
              "[5 rows x 13 columns]"
            ]
          },
          "metadata": {
            "tags": []
          },
          "execution_count": 20
        }
      ]
    },
    {
      "cell_type": "code",
      "metadata": {
        "id": "FN1NXRgptVHQ",
        "colab_type": "code",
        "colab": {}
      },
      "source": [
        "# calucluate the fitness\n",
        "def calculate_fitness(pop_array):\n",
        "    size = 50\n",
        "    error = 0\n",
        "    fitness = []\n",
        "    for i in range(size): # 50 is the size of population\n",
        "        index = [0]\n",
        "        error = 0\n",
        "        for j in range(13): # 14 is the size of gene length\n",
        "            if(pop_array[i][j] == 1):\n",
        "              index.append(j)\n",
        "       # print((index))\n",
        "        for i in range(20):\n",
        "            a = af.iloc[i:(34+i),index] \n",
        "            b = df['Return'][i:(34+i)]\n",
        "\n",
        "            model = sm.OLS(b, a).fit()\n",
        "            AIC = model.aic\n",
        "         # print(AIC)  \n",
        "            error = error + AIC #abs(model_prediction[0] - df['Return'][35+i])*100\n",
        "        fitness.append(error) \n",
        "    return np.array(fitness)\n",
        "\n",
        "#fitness_arr = calculate_fitness(pop_array)\n",
        "#fitness_arr  "
      ],
      "execution_count": 0,
      "outputs": []
    },
    {
      "cell_type": "code",
      "metadata": {
        "id": "Eu6NOsZZsrIp",
        "colab_type": "code",
        "colab": {}
      },
      "source": [
        "''' selection: how to select?\n",
        " we will use the proptional selection'''\n",
        "\n",
        "def select(prop_fitness):\n",
        "   index_best = np.where(prop_fitness == prop_fitness.min())\n",
        "   # we will get the last 20% out of the population\n",
        "   index_least = np.where(prop_fitness > np.quantile(prop_fitness, 0.8))\n",
        "   return index_best[0][0], index_least[0]\n",
        "\n",
        "#a, b = select(fitness_arr)\n",
        "#pop_array[b] = pop_array[a]"
      ],
      "execution_count": 0,
      "outputs": []
    },
    {
      "cell_type": "code",
      "metadata": {
        "id": "xRWN1h84wacr",
        "colab_type": "code",
        "colab": {}
      },
      "source": [
        "\n",
        "# ok, so this part can be improved.\n",
        "\n",
        "def getFittest(pop):\n",
        "  return calculate_fitness(pop).min()\n",
        "\n",
        "def getLeastFittest(pop):\n",
        "  return calculate_fitness(pop).max()\n",
        "\n",
        "def getAverageFittest(pop):\n",
        "  return calculate_fitness(pop).mean()\n",
        "\n",
        "def getFit(pop):\n",
        "  result = calculate_fitness(pop)\n",
        "  return result.min(), result.max(), result.mean()\n",
        "\n",
        "#best, worest, average = getFit(pop_array)\n",
        "# print(best)\n",
        "# print(worest)\n",
        "# print(average)"
      ],
      "execution_count": 0,
      "outputs": []
    },
    {
      "cell_type": "code",
      "metadata": {
        "id": "HD7Z_ybkw3-C",
        "colab_type": "code",
        "colab": {}
      },
      "source": [
        "''' recombination operator \n",
        "    (one-point crossover)'''\n",
        "\n",
        "def recombination(individual1, individual2):\n",
        "    crossOverPoint = randint(0,12)\n",
        "    for i in range(crossOverPoint):\n",
        "        temp = individual1[i]\n",
        "        individual1[i] = individual2[i]\n",
        "        individual2[i] = temp\n",
        "    return individual1, individual2\n",
        "\n",
        "# size = 50\n",
        "# for i in range(size):\n",
        "#     rand_index = randint(0,4)\n",
        "#     print(rand_index)\n",
        "#     print(pop_array[rand_index])\n",
        "#     pop_array[rand_index], pop_array[i] = recombination(pop_array[i], pop_array[rand_index])"
      ],
      "execution_count": 0,
      "outputs": []
    },
    {
      "cell_type": "code",
      "metadata": {
        "id": "w7SKh9em18B7",
        "colab_type": "code",
        "colab": {}
      },
      "source": [
        "''' mutation operator'''\n",
        "def mutate(individual1):\n",
        "    mutationPoint = randint(0, 12)\n",
        "    if (individual1[mutationPoint] == 0):\n",
        "        individual1[mutationPoint] = 1\n",
        "    else:\n",
        "        individual1[mutationPoint] = 0\n",
        "# size = 50\n",
        "# for i in range(size):\n",
        "#     if (randint(0,7)%7 < 5): # mutate under some probability\n",
        "#         mutate(pop_array[i])"
      ],
      "execution_count": 0,
      "outputs": []
    },
    {
      "cell_type": "code",
      "metadata": {
        "id": "sGZyOSiwB380",
        "colab_type": "code",
        "colab": {}
      },
      "source": [
        "\n",
        "#-------step 1, create the genes with the population---------\n",
        "\n",
        "pop = []\n",
        "size = 50\n",
        "for j in range(size):\n",
        "    genes = []\n",
        "    for i in range(13): # totally there is 13 varables\n",
        "        genes.append(randint(0,1))\n",
        "    pop.append(genes)\n",
        "\n",
        "pop_array = np.array(pop) # now pop_array is an np array not a list anymore\n",
        "\n",
        "generation = 0\n",
        "best_fit_arr = []\n",
        "least_fit_arr = []\n",
        "average_pop_arr = []\n",
        "# ---------- I do not need this one first. ----------\n",
        "#whole_pop_fitness = []"
      ],
      "execution_count": 0,
      "outputs": []
    },
    {
      "cell_type": "code",
      "metadata": {
        "id": "p9_OqmQmsDqB",
        "colab_type": "code",
        "colab": {}
      },
      "source": [
        "while True:\n",
        "   print(\"generation:\")\n",
        "   print(generation)\n",
        "   generation = generation + 1\n",
        "\n",
        "## change here a little bit.\n",
        "\n",
        "   best_fit, least_fit, average_pop = getFit(pop_array)\n",
        "  \n",
        "   best_fit_arr.append(best_fit)\n",
        "   least_fit_arr.append(least_fit)\n",
        "   average_pop_arr.append(average_pop)\n",
        "\n",
        "   ''' recombination step '''\n",
        "   ''' is the recombination too much? '''\n",
        "\n",
        "  #  for i in range(size):\n",
        "  #     rand_index = randint(0,size -1)\n",
        "  #     pop_array[rand_index], pop_array[i] = recombination(pop_array[i], pop_array[rand_index])\n",
        "  #  print(\"after recombination:\")\n",
        "  #  print(sum(sum(pop_array)))\n",
        "\n",
        "   '''mutation step '''\n",
        "   for i in range(size):\n",
        "      if (randint(0,7)%7 < 5): # mutate under some probability\n",
        "         mutate(pop_array[i])\n",
        "   print(\"after mutation:\")\n",
        "   print(sum(sum(pop_array)))\n",
        "\n",
        "   '''selection step '''\n",
        "   a, b = select(calculate_fitness(pop_array))\n",
        "   pop_array[b] = pop_array[a]\n",
        "   print(\"after selection:\")\n",
        "   print(sum(sum(pop_array)))\n",
        "\n",
        "  \n",
        "   #print(getFittest(pop_array))\n",
        "\n",
        "   if (generation >100): break\n",
        "\n",
        "sum(calculate_fitness(pop_array))"
      ],
      "execution_count": 0,
      "outputs": []
    },
    {
      "cell_type": "code",
      "metadata": {
        "id": "L0CT_Ef1AjJR",
        "colab_type": "code",
        "colab": {}
      },
      "source": [
        "# find out the best one\n",
        "a, b = select(calculate_fitness(pop_array))"
      ],
      "execution_count": 0,
      "outputs": []
    },
    {
      "cell_type": "code",
      "metadata": {
        "id": "qViTd3HDiMZd",
        "colab_type": "code",
        "outputId": "4af6873c-8b0d-4c60-b4b3-514ab1029c62",
        "colab": {
          "base_uri": "https://localhost:8080/",
          "height": 34
        }
      },
      "source": [
        "a"
      ],
      "execution_count": 34,
      "outputs": [
        {
          "output_type": "execute_result",
          "data": {
            "text/plain": [
              "1"
            ]
          },
          "metadata": {
            "tags": []
          },
          "execution_count": 34
        }
      ]
    },
    {
      "cell_type": "code",
      "metadata": {
        "id": "wN8cGybScb-v",
        "colab_type": "code",
        "outputId": "648ca348-63ed-4e24-8685-d4af59a0b8b4",
        "colab": {
          "base_uri": "https://localhost:8080/",
          "height": 34
        }
      },
      "source": [
        "pop_array[1]"
      ],
      "execution_count": 35,
      "outputs": [
        {
          "output_type": "execute_result",
          "data": {
            "text/plain": [
              "array([1, 0, 0, 0, 0, 0, 0, 0, 1, 0, 0, 0, 0])"
            ]
          },
          "metadata": {
            "tags": []
          },
          "execution_count": 35
        }
      ]
    },
    {
      "cell_type": "code",
      "metadata": {
        "id": "vuiM0u7tE5B-",
        "colab_type": "code",
        "outputId": "8e2e237d-e890-4674-9e32-159d6e1dc97d",
        "colab": {
          "base_uri": "https://localhost:8080/",
          "height": 374
        }
      },
      "source": [
        "import matplotlib.pyplot as plt\n",
        "\n",
        "plt.figure(figsize=(12, 6))\n",
        "plt.plot(best_fit_arr, label='best')\n",
        "plt.plot(least_fit_arr, label='worest')\n",
        "plt.plot(average_pop_arr, label='average')\n",
        "plt.ylabel('fitness')\n",
        "plt.legend()\n",
        "plt.show()"
      ],
      "execution_count": 36,
      "outputs": [
        {
          "output_type": "display_data",
          "data": {
            "image/png": "[encoded data removed]",
            "text/plain": [
              "<Figure size 864x432 with 1 Axes>"
            ]
          },
          "metadata": {
            "tags": [],
            "needs_background": "light"
          }
        }
      ]
    },
    {
      "cell_type": "code",
      "metadata": {
        "id": "E6EGoHZqb317",
        "colab_type": "code",
        "colab": {
          "base_uri": "https://localhost:8080/",
          "height": 34
        },
        "outputId": "0b6d04f7-3ea7-4d6f-8da1-12a67021bc4e"
      },
      "source": [
        "pop_array[1]\n"
      ],
      "execution_count": 50,
      "outputs": [
        {
          "output_type": "execute_result",
          "data": {
            "text/plain": [
              "array([1, 0, 0, 0, 0, 0, 0, 0, 1, 0, 0, 0, 0])"
            ]
          },
          "metadata": {
            "tags": []
          },
          "execution_count": 50
        }
      ]
    },
    {
      "cell_type": "code",
      "metadata": {
        "id": "YcGnGYCJdMoc",
        "colab_type": "code",
        "colab": {}
      },
      "source": [
        "index = [0, 8]"
      ],
      "execution_count": 0,
      "outputs": []
    },
    {
      "cell_type": "code",
      "metadata": {
        "id": "3RMYWjCmdDJK",
        "colab_type": "code",
        "colab": {
          "base_uri": "https://localhost:8080/",
          "height": 80
        },
        "outputId": "b865fc77-c149-487c-8134-733b8492cd05"
      },
      "source": [
        "af.iloc[1:2,index]"
      ],
      "execution_count": 55,
      "outputs": [
        {
          "output_type": "execute_result",
          "data": {
            "text/html": [
              "<div>\n",
              "<style scoped>\n",
              "    .dataframe tbody tr th:only-of-type {\n",
              "        vertical-align: middle;\n",
              "    }\n",
              "\n",
              "    .dataframe tbody tr th {\n",
              "        vertical-align: top;\n",
              "    }\n",
              "\n",
              "    .dataframe thead th {\n",
              "        text-align: right;\n",
              "    }\n",
              "</style>\n",
              "<table border=\"1\" class=\"dataframe\">\n",
              "  <thead>\n",
              "    <tr style=\"text-align: right;\">\n",
              "      <th></th>\n",
              "      <th>Confirmed</th>\n",
              "      <th>MA-1</th>\n",
              "    </tr>\n",
              "  </thead>\n",
              "  <tbody>\n",
              "    <tr>\n",
              "      <th>2</th>\n",
              "      <td>0.205611</td>\n",
              "      <td>0.007124</td>\n",
              "    </tr>\n",
              "  </tbody>\n",
              "</table>\n",
              "</div>"
            ],
            "text/plain": [
              "   Confirmed      MA-1\n",
              "2   0.205611  0.007124"
            ]
          },
          "metadata": {
            "tags": []
          },
          "execution_count": 55
        }
      ]
    },
    {
      "cell_type": "code",
      "metadata": {
        "id": "W9YGxXcAbsGD",
        "colab_type": "code",
        "colab": {}
      },
      "source": [
        "# by our model\n",
        "error_term = []\n",
        "forecast = 0\n",
        "for i in range(20):\n",
        "    # get the data \n",
        "    a = af.iloc[i:(34+i),index]\n",
        "    b = df['Return'][i:(34+i)]\n",
        "\n",
        "    # fit the model\n",
        "    model = sm.OLS(b, a).fit()\n",
        "\n",
        "    # get the forcast\n",
        "    confirmed = af.iloc[35+i,0]\n",
        "    ma1 = af.iloc[35+i,8]\n",
        "    forecast = model.params[0]*confirmed + model.params[1]*ma1\n",
        "\n",
        "    #RMSE\n",
        "    error = (forecast - df['Return'][35+i])**2\n",
        "    error_term.append(error)"
      ],
      "execution_count": 0,
      "outputs": []
    },
    {
      "cell_type": "code",
      "metadata": {
        "id": "gnhQUalAgJMI",
        "colab_type": "code",
        "colab": {
          "base_uri": "https://localhost:8080/",
          "height": 34
        },
        "outputId": "a71668d4-c522-4b79-d029-24bc906cc034"
      },
      "source": [
        "sum(error_term)"
      ],
      "execution_count": 67,
      "outputs": [
        {
          "output_type": "execute_result",
          "data": {
            "text/plain": [
              "0.08131773770636472"
            ]
          },
          "metadata": {
            "tags": []
          },
          "execution_count": 67
        }
      ]
    },
    {
      "cell_type": "code",
      "metadata": {
        "id": "h5ZynZBjg8rD",
        "colab_type": "code",
        "colab": {}
      },
      "source": [
        "# by ARIMA(1,1)\n",
        "index = [3,8]\n",
        "error_term = []\n",
        "forecast = 0\n",
        "for i in range(20):\n",
        "    # get the data \n",
        "    a = af.iloc[i:(34+i),index]\n",
        "    b = df['Return'][i:(34+i)]\n",
        "\n",
        "    # fit the model\n",
        "    model = sm.OLS(b, a).fit()\n",
        "\n",
        "    # get the forcast\n",
        "    ar1 = af.iloc[35+i,3]\n",
        "    ma1 = af.iloc[35+i,8]\n",
        "    forecast = model.params[0]*ar1 + model.params[1]*ma1\n",
        "\n",
        "    #RMSE\n",
        "    error = (forecast - df['Return'][35+i])**2\n",
        "    error_term.append(error)"
      ],
      "execution_count": 0,
      "outputs": []
    },
    {
      "cell_type": "code",
      "metadata": {
        "id": "v8vUUZ7HhP7U",
        "colab_type": "code",
        "colab": {
          "base_uri": "https://localhost:8080/",
          "height": 34
        },
        "outputId": "c4da1018-b05f-4a9b-9985-a82f1d27210a"
      },
      "source": [
        "sum(error_term)"
      ],
      "execution_count": 71,
      "outputs": [
        {
          "output_type": "execute_result",
          "data": {
            "text/plain": [
              "0.090379877193564"
            ]
          },
          "metadata": {
            "tags": []
          },
          "execution_count": 71
        }
      ]
    },
    {
      "cell_type": "code",
      "metadata": {
        "id": "sLKrwKAni3um",
        "colab_type": "code",
        "colab": {}
      },
      "source": [
        "# by ARIMA(1,1) Confirmed\tRecovered\tDeaths\n",
        "index = [0,1,2,3,8]\n",
        "error_term = []\n",
        "forecast = 0\n",
        "for i in range(20):\n",
        "    # get the data \n",
        "    a = af.iloc[i:(34+i),index]\n",
        "    b = df['Return'][i:(34+i)]\n",
        "\n",
        "    # fit the model\n",
        "    model = sm.OLS(b, a).fit()\n",
        "\n",
        "    # get the forcast\n",
        "    confirmed = af.iloc[35+i,0]\n",
        "    recovered = af.iloc[35+i,1]\n",
        "    deaths = af.iloc[35+i,2]\n",
        "    ar1 = af.iloc[35+i,3]\n",
        "    ma1 = af.iloc[35+i,8]\n",
        "    forecast = model.params[0]*confirmed + model.params[1]*recovered + model.params[2]*deaths + model.params[3]*ar1 + model.params[4]*ma1\n",
        "\n",
        "    #RMSE\n",
        "    error = (forecast - df['Return'][35+i])**2\n",
        "    error_term.append(error)"
      ],
      "execution_count": 0,
      "outputs": []
    },
    {
      "cell_type": "code",
      "metadata": {
        "id": "rzSluuKfkHjs",
        "colab_type": "code",
        "colab": {
          "base_uri": "https://localhost:8080/",
          "height": 34
        },
        "outputId": "21fe5ef5-4a04-489e-bb65-548f9583473a"
      },
      "source": [
        "sum(error_term)"
      ],
      "execution_count": 75,
      "outputs": [
        {
          "output_type": "execute_result",
          "data": {
            "text/plain": [
              "0.09671040383639681"
            ]
          },
          "metadata": {
            "tags": []
          },
          "execution_count": 75
        }
      ]
    }
  ]
}